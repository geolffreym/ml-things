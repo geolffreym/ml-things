{
 "cells": [
  {
   "cell_type": "code",
   "execution_count": 1,
   "metadata": {
    "collapsed": true
   },
   "outputs": [],
   "source": [
    "from sklearn.datasets import fetch_mldata\n",
    "import numpy as np\n",
    "import warnings\n",
    "\n",
    "warnings.filterwarnings(\"ignore\")"
   ]
  },
  {
   "cell_type": "code",
   "execution_count": 2,
   "metadata": {},
   "outputs": [
    {
     "data": {
      "text/plain": [
       "{'COL_NAMES': ['label', 'data'],\n",
       " 'DESCR': 'mldata.org dataset: mnist-original',\n",
       " 'data': array([[0, 0, 0, ..., 0, 0, 0],\n",
       "        [0, 0, 0, ..., 0, 0, 0],\n",
       "        [0, 0, 0, ..., 0, 0, 0],\n",
       "        ..., \n",
       "        [0, 0, 0, ..., 0, 0, 0],\n",
       "        [0, 0, 0, ..., 0, 0, 0],\n",
       "        [0, 0, 0, ..., 0, 0, 0]], dtype=uint8),\n",
       " 'target': array([ 0.,  0.,  0., ...,  9.,  9.,  9.])}"
      ]
     },
     "execution_count": 2,
     "metadata": {},
     "output_type": "execute_result"
    }
   ],
   "source": [
    "mnist = fetch_mldata('MNIST original')\n",
    "mnist"
   ]
  },
  {
   "cell_type": "code",
   "execution_count": 3,
   "metadata": {
    "collapsed": true
   },
   "outputs": [],
   "source": [
    "# Dependent and Independent var\n",
    "# Input - output\n",
    "# Features - Label\n",
    "X, y = mnist['data'], mnist['target']"
   ]
  },
  {
   "cell_type": "code",
   "execution_count": 4,
   "metadata": {},
   "outputs": [
    {
     "name": "stdout",
     "output_type": "stream",
     "text": [
      "Proportion for class 0 => 0.09861428571428571\n",
      "Count for class 0 => 6903\n",
      "Proportion for class 1 => 0.11252857142857142\n",
      "Count for class 1 => 7877\n",
      "Proportion for class 2 => 0.09985714285714285\n",
      "Count for class 2 => 6990\n",
      "Proportion for class 3 => 0.10201428571428571\n",
      "Count for class 3 => 7141\n",
      "Proportion for class 4 => 0.09748571428571429\n",
      "Count for class 4 => 6824\n",
      "Proportion for class 5 => 0.09018571428571429\n",
      "Count for class 5 => 6313\n",
      "Proportion for class 6 => 0.09822857142857143\n",
      "Count for class 6 => 6876\n",
      "Proportion for class 7 => 0.10418571428571428\n",
      "Count for class 7 => 7293\n",
      "Proportion for class 8 => 0.0975\n",
      "Count for class 8 => 6825\n",
      "Proportion for class 9 => 0.0994\n",
      "Count for class 9 => 6958\n"
     ]
    }
   ],
   "source": [
    "# Basic stats\n",
    "# Check balancing for classification\n",
    "# Is accuracy reliable?\n",
    "# La descompensacion de los datos genera un mal calculo de la exactitud (accuracy)\n",
    "# ex: 100TP + 1200TN / 100TP + 1200TN + 50FP + 50FN = 0.89\n",
    "from collections import Counter\n",
    "\n",
    "n = X.shape[0]\n",
    "count = Counter(y.tolist())\n",
    "\n",
    "# Check proportions to lookup balance in classes \n",
    "for idx, val in dict(count).items():\n",
    "    print(\"Proportion for class\", int(idx), \"=>\", val / n)\n",
    "    print(\"Count for class\", int(idx), \"=>\", val)"
   ]
  },
  {
   "cell_type": "code",
   "execution_count": 5,
   "metadata": {
    "collapsed": true
   },
   "outputs": [],
   "source": [
    "%matplotlib inline\n",
    "import matplotlib\n",
    "import matplotlib.pyplot as plt\n"
   ]
  },
  {
   "cell_type": "code",
   "execution_count": 6,
   "metadata": {},
   "outputs": [
    {
     "data": {
      "image/png": "[encoded data removed]",
      "text/plain": [
       "<matplotlib.figure.Figure at 0x7f92bdddac18>"
      ]
     },
     "metadata": {},
     "output_type": "display_data"
    }
   ],
   "source": [
    "\n",
    "def plot_digit(index):\n",
    "    some_digit = X[index]\n",
    "    some_digit = some_digit.reshape(28,28)\n",
    "    plt.imshow(some_digit, cmap=matplotlib.cm.binary)\n",
    "    plt.show()\n",
    "    \n",
    "plot_digit(36000)"
   ]
  },
  {
   "cell_type": "code",
   "execution_count": 7,
   "metadata": {},
   "outputs": [
    {
     "name": "stdout",
     "output_type": "stream",
     "text": [
      "5.0\n"
     ]
    }
   ],
   "source": [
    "print(y[36000])"
   ]
  },
  {
   "cell_type": "code",
   "execution_count": 8,
   "metadata": {},
   "outputs": [
    {
     "data": {
      "text/plain": [
       "array([[ 0.,  0.,  0., ...,  0.,  0.,  0.],\n",
       "       [ 0.,  0.,  0., ...,  0.,  0.,  0.],\n",
       "       [ 0.,  0.,  0., ...,  0.,  0.,  0.],\n",
       "       ..., \n",
       "       [ 0.,  0.,  0., ...,  0.,  0.,  0.],\n",
       "       [ 0.,  0.,  0., ...,  0.,  0.,  0.],\n",
       "       [ 0.,  0.,  0., ...,  0.,  0.,  0.]])"
      ]
     },
     "execution_count": 8,
     "metadata": {},
     "output_type": "execute_result"
    }
   ],
   "source": [
    "from sklearn.preprocessing import StandardScaler\n",
    "from sklearn.model_selection import train_test_split, learning_curve, StratifiedKFold, KFold, \\\n",
    "    validation_curve, cross_val_score\n",
    "\n",
    "\n",
    "X_train, X_test, y_train, y_test = train_test_split(X, y, test_size=0.2, random_state=0)\n",
    "\n",
    "scaler = StandardScaler()\n",
    "X_train = scaler.fit_transform(X_train.astype(np.float64))\n",
    "X_test = scaler.fit_transform(X_test.astype(np.float64))\n",
    "X_train                               \n",
    "                               "
   ]
  },
  {
   "cell_type": "code",
   "execution_count": 9,
   "metadata": {
    "collapsed": true
   },
   "outputs": [],
   "source": [
    "from sklearn.metrics import accuracy_score, f1_score\n",
    "from sklearn.model_selection import GridSearchCV\n",
    "from sklearn.multiclass import OneVsRestClassifier\n",
    "from sklearn.metrics import make_scorer, f1_score, roc_auc_score\n",
    "\n",
    "from sklearn.linear_model import SGDClassifier, LogisticRegression\n",
    "from sklearn.tree import DecisionTreeClassifier\n",
    "from sklearn.ensemble import RandomForestClassifier\n",
    "\n",
    "def scorer(pred, classif): \n",
    "    cv = StratifiedKFold(n_splits=10, shuffle=True, random_state=0)\n",
    "    cross_val=np.mean(cross_val_score(\n",
    "        classif, X_train, y_train, cv=cv, scoring=make_scorer(f1_score, average='macro')\n",
    "    ))\n",
    "    \n",
    "    \n",
    "    print('CrossVal Acc:', cross_val)\n",
    "    print('F1 Score:', f1_score(y_test, pred, average='macro'))\n",
    "\n",
    "\n",
    "def fit_predict(classif):\n",
    "    import time\n",
    "    before = time.time()\n",
    "    \n",
    "    print('Model:', classif.__class__.__name__)   \n",
    "    classif = OneVsRestClassifier(classif)\n",
    "    classif.fit(X_train, y_train)\n",
    "    train_time =  time.time() - before\n",
    "    \n",
    "    y_pred = classif.predict(X_train)\n",
    "    print('Train Acc: ',accuracy_score(y_train, y_pred))\n",
    "    y_pred = classif.predict(X_test)\n",
    "    print('Test Acc: ',accuracy_score(y_test, y_pred))\n",
    "    pred_time = time.time() - before\n",
    "    \n",
    "    scorer(y_pred, classif)\n",
    "    val_time= time.time() - before\n",
    "    \n",
    "    print('Train Time:', train_time)\n",
    "    print('Pred Time:', pred_time)\n",
    "    print('Validation Time:', val_time, '\\n', '\\n')\n",
    "\n",
    "    return classif\n",
    "    \n",
    "def fit_grid_predict(classif, params, scoring='accuracy'):\n",
    "    cv = StratifiedKFold(n_splits=10, shuffle=True, random_state=0)\n",
    "    import time\n",
    "    before = time.time()\n",
    "    \n",
    "    print('Model:', classif.__class__.__name__)\n",
    "    gs = GridSearchCV(classif, params, scoring, cv=cv)\n",
    "    gs.fit(X_train, y_train)\n",
    "    train_time =  time.time() - before\n",
    "    \n",
    "    y_pred = gs.predict(X_train)\n",
    "    y_pred = gs.predict(X_test)\n",
    "    pred_time = time.time() - before\n",
    "    \n",
    "    print('Train Time:', train_time)\n",
    "    print('Pred Time:', pred_time)\n",
    "    print('Best Score:', gs.best_score_, '\\n', '\\n')\n",
    "\n",
    "    return gs.best_estimator_\n",
    "    \n",
    "def complex_curve(estimator, **kwargs):\n",
    "    cv = StratifiedKFold(n_splits=10, shuffle=True, random_state=0)\n",
    "    # MODEL COMPLEX SCORE\n",
    "    # Calculate the training and testing scores\n",
    "    train_scores, test_scores = validation_curve(\n",
    "        estimator, X, y, cv=cv, **kwargs\n",
    "    )\n",
    "    \n",
    "     # Find the mean and standard deviation for smoothing\n",
    "    train_mean = np.mean(train_scores, axis=1)\n",
    "    train_std = np.std(train_scores, axis=1)\n",
    "    test_mean = np.mean(test_scores, axis=1)\n",
    "    test_std = np.std(test_scores, axis=1)\n",
    "    \n",
    "    plt.figure(figsize=(7, 5))\n",
    "    \n",
    "    plt.title(estimator.__class__.__name__)\n",
    "    plt.plot(kwargs['param_range'], train_mean, 'o-', color='r', label='Training Score')\n",
    "    plt.plot(kwargs['param_range'], test_mean, 'o-', color='g', label='Validation Score')\n",
    "    \n",
    "    plt.legend(loc='lower right')\n",
    "    plt.xlabel(kwargs['param_name'])\n",
    "    plt.ylabel('score')\n",
    "    plt.ylim([-0.05, 1.05])\n",
    "    plt.show()\n",
    "    \n",
    "    # For each depth\n",
    "    for x, k in enumerate(train_scores):\n",
    "        print(kwargs['param_name'], kwargs['param_range'][x])\n",
    "        print('score train:', np.mean(train_scores[x]))\n",
    "        print('score test:', np.mean(test_scores[x]))\n",
    "        \n",
    "def learn_curve(estimator, **kwargs):\n",
    "    cv = StratifiedKFold(n_splits=10, shuffle=True, random_state=0)\n",
    "    # Generate the training set sizes increasing by 50\n",
    "    train_sizes = np.rint(np.linspace(1, X.shape[0] * 0.8 - 1, 9)).astype(int)\n",
    "\n",
    "    # Calculate the training and testing scores\n",
    "    sizes, train_scores, test_scores = learning_curve(\n",
    "        estimator, X, y, cv=cv, train_sizes=train_sizes,\n",
    "        scoring=make_scorer(f1_score, average='macro')\n",
    "    )\n",
    "\n",
    "    # Find the mean and standard deviation for smoothing\n",
    "    train_std = np.std(train_scores, axis=1)\n",
    "    train_mean = np.mean(train_scores, axis=1)\n",
    "    test_std = np.std(test_scores, axis=1)\n",
    "    test_mean = np.mean(test_scores, axis=1)\n",
    "\n",
    "    # Subplot the learning curve\n",
    "    ax = fig.add_subplot(2, 2, k + 1)\n",
    "    ax.plot(sizes, train_mean, 'o-', color='r', label='Training Score')\n",
    "    ax.plot(sizes, test_mean, 'o-', color='g', label='Testing Score')\n",
    "\n",
    "    # Labels\n",
    "    ax.set_title('%s = %s' % (kwargs['param_name'],p))\n",
    "    ax.set_xlabel('Number of Training Points')\n",
    "    ax.set_ylabel('Score')\n",
    "    ax.set_xlim([0, X.shape[0] * 0.8])\n",
    "    ax.set_ylim([-0.05, 1.05])\n",
    "    \n",
    "    # Visual aesthetics\n",
    "\n",
    "    fig.show()\n",
    "    plt.show()"
   ]
  },
  {
   "cell_type": "code",
   "execution_count": 10,
   "metadata": {
    "collapsed": true,
    "scrolled": true
   },
   "outputs": [],
   "source": [
    "# Check learning curve and comple\n",
    "#complex_curve(SGDClassifier(), param_name='eta0', param_range=[0.2,0.5,0.8,0.9])\n",
    "#complex_curve(SGDClassifier(), param_name='n_iter', param_range=[10,20,30,40,50,60])"
   ]
  },
  {
   "cell_type": "code",
   "execution_count": 11,
   "metadata": {
    "scrolled": true
   },
   "outputs": [
    {
     "name": "stdout",
     "output_type": "stream",
     "text": [
      "Model: RandomForestClassifier\n",
      "Train Acc:  0.883767857143\n",
      "Test Acc:  0.874642857143\n",
      "CrossVal Acc: 0.871874965932\n",
      "F1 Score: 0.873168593134\n",
      "Train Time: 11.984313011169434\n",
      "Pred Time: 13.896707534790039\n",
      "Validation Time: 146.7354917526245 \n",
      " \n",
      "\n",
      "Model: SGDClassifier\n",
      "Train Acc:  0.918303571429\n",
      "Test Acc:  0.910785714286\n",
      "CrossVal Acc: 0.910302115148\n",
      "F1 Score: 0.909746191757\n",
      "Train Time: 3.541851282119751\n",
      "Pred Time: 4.248298406600952\n",
      "Validation Time: 39.40767216682434 \n",
      " \n",
      "\n"
     ]
    },
    {
     "data": {
      "text/plain": [
       "OneVsRestClassifier(estimator=SGDClassifier(alpha=0.0001, average=False, class_weight=None, epsilon=0.1,\n",
       "       eta0=0.0, fit_intercept=True, l1_ratio=0.15,\n",
       "       learning_rate='optimal', loss='hinge', max_iter=None, n_iter=None,\n",
       "       n_jobs=1, penalty='l2', power_t=0.5, random_state=42, shuffle=True,\n",
       "       tol=None, verbose=0, warm_start=False),\n",
       "          n_jobs=1)"
      ]
     },
     "execution_count": 11,
     "metadata": {},
     "output_type": "execute_result"
    }
   ],
   "source": [
    "# from sklearn.neighbors import KNeighborsClassifier\n",
    "from sklearn.naive_bayes import GaussianNB\n",
    "from sklearn.svm import SVC\n",
    "\n",
    "fit_predict(RandomForestClassifier(max_depth=5, n_estimators=10))\n",
    "fit_predict(SGDClassifier(random_state=42))\n",
    "#fit_predict(DecisionTreeClassifier(max_depth=5))\n",
    "#fit_predict(LogisticRegression(multi_class='multinomial', solver='lbfgs'))\n",
    "#fit_predict(GaussianNB())\n",
    "# fit_predict(KNeighborsClassifier())\n",
    "\n"
   ]
  },
  {
   "cell_type": "code",
   "execution_count": null,
   "metadata": {},
   "outputs": [
    {
     "name": "stdout",
     "output_type": "stream",
     "text": [
      "Model: SGDClassifier\n"
     ]
    }
   ],
   "source": [
    "from sklearn.model_selection import GridSearchCV\n",
    "\n",
    "# logit = fit_grid_predict(LogisticRegression(), {'multi_class':['multinomial'], 'solver':['lbfgs','newton-cg','saga']})                                                \n",
    "sgd = fit_grid_predict(\n",
    "    SGDClassifier(), \n",
    "    [\n",
    "        {'penalty':['l1', 'l2', 'elasticnet'], \n",
    "         'learning_rate':['constant','optimal'], \n",
    "         'eta0':[0.2,0.5,0.8,0.9]\n",
    "        }, \n",
    "        { \n",
    "         'learning_rate':['constant','optimal'], \n",
    "         'eta0':[0.2,0.5,0.8,0.9],\n",
    "         'n_iter':[10,20,30,40,50,60]\n",
    "            \n",
    "        }\n",
    "    ], make_scorer(f1_score, average='macro')\n",
    ")  \n",
    "\n",
    "sgd"
   ]
  },
  {
   "cell_type": "code",
   "execution_count": null,
   "metadata": {
    "collapsed": true
   },
   "outputs": [],
   "source": [
    "learn_curve(sgd)"
   ]
  },
  {
   "cell_type": "code",
   "execution_count": null,
   "metadata": {
    "collapsed": true
   },
   "outputs": [],
   "source": [
    "from sklearn.preprocessing import PolynomialFeatures\n",
    "\n",
    "poly_ = PolynomialFeatures(degree=2)\n",
    "poly_x = poly_.fit_transform(X)\n",
    "poly_x\n"
   ]
  },
  {
   "cell_type": "code",
   "execution_count": null,
   "metadata": {
    "collapsed": true
   },
   "outputs": [],
   "source": [
    "from sklearn.externals import joblib\n",
    "# joblib.dump(forest, 'forest_classif.joblib') \n",
    "joblib.dump(sgd, 'sgd_classif.joblib') "
   ]
  },
  {
   "cell_type": "code",
   "execution_count": null,
   "metadata": {
    "collapsed": true
   },
   "outputs": [],
   "source": [
    "from sklearn.metrics import confusion_matrix\n",
    "\n",
    "#SGD estimator Choosen => best time training, best score\n",
    "y_pred = sgd.predict(X_test)\n",
    "con_matrix = confusion_matrix(y_test, y_pred)\n",
    "\n",
    "plt.matshow(con_matrix, cmap=plt.cm.gray)\n",
    "plt.show()"
   ]
  },
  {
   "cell_type": "code",
   "execution_count": null,
   "metadata": {
    "collapsed": true
   },
   "outputs": [],
   "source": [
    "import PIL.Image as Image\n",
    "from sklearn.preprocessing import StandardScaler\n",
    "#from PIL import Image\n",
    "#scaler = StandardScaler()\n",
    "#print(scaler.fit_transform(X[20000].astype(np.float64)))\n",
    "#print(X[20000].reshape(28,28).shape)\n",
    "# for x in np.arange(0, 70000, 10000):\n",
    "#     plot_digit(x)\n",
    "#     print(\"Number predictes\",sgd.predict([scaler.fit_transform(X[x].astype(np.float64))]))\n",
    "\n",
    "img = Image.open('number_five.jpg')\n",
    "img = img.convert('L')\n",
    "scaler = StandardScaler()\n",
    "\n",
    "#print(img.shape)\n",
    "\n",
    "plt.imshow(img, cmap=matplotlib.cm.binary)\n",
    "plt.show()\n",
    "plt.imshow(X[20000].reshape(28,28), cmap=matplotlib.cm.binary)\n",
    "plt.show()\n",
    "# # print(x.shape)\n",
    "# # print(X_train.reshape(24,24).shape)\n",
    "# my_y_pred = scaler.fit_transform(img.astype(np.float64))\n",
    "#sgd.predict([x])"
   ]
  },
  {
   "cell_type": "code",
   "execution_count": null,
   "metadata": {
    "collapsed": true
   },
   "outputs": [],
   "source": []
  },
  {
   "cell_type": "raw",
   "metadata": {},
   "source": []
  }
 ],
 "metadata": {
  "kernelspec": {
   "display_name": "Python 3",
   "language": "python",
   "name": "python3"
  },
  "language_info": {
   "codemirror_mode": {
    "name": "ipython",
    "version": 3
   },
   "file_extension": ".py",
   "mimetype": "text/x-python",
   "name": "python",
   "nbconvert_exporter": "python",
   "pygments_lexer": "ipython3",
   "version": "3.6.3"
  }
 },
 "nbformat": 4,
 "nbformat_minor": 2
}
